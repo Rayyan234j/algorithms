{
  "nbformat": 4,
  "nbformat_minor": 0,
  "metadata": {
    "colab": {
      "provenance": []
    },
    "kernelspec": {
      "name": "python3",
      "display_name": "Python 3"
    },
    "language_info": {
      "name": "python"
    }
  },
  "cells": [
    {
      "cell_type": "code",
      "execution_count": null,
      "metadata": {
        "id": "5hsOh8FPsG4Z"
      },
      "outputs": [],
      "source": [
        "def quicksort(arr):\n",
        "    if len(arr) <= 1:\n",
        "        return arr\n",
        "    else:\n",
        "        pivot = arr[len(arr) // 2]\n",
        "        left = [x for x in arr if x < pivot]\n",
        "        middle = [x for x in arr if x == pivot]\n",
        "        right = [x for x in arr if x > pivot]\n",
        "        return quicksort(left) + middle + quicksort(right)\n",
        "\n",
        "# Example usage\n",
        "arr = [3, 6, 8, 10, 1, 2, 1]\n",
        "print(\"Original array:\", arr)\n",
        "sorted_arr = quicksort(arr)\n",
        "print(\"Sorted array:\", sorted_arr)\n"
      ]
    }
  ]
}